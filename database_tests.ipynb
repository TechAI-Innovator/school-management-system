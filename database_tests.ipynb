{
 "cells": [
  {
   "cell_type": "code",
   "execution_count": 1,
   "metadata": {},
   "outputs": [
    {
     "name": "stdout",
     "output_type": "stream",
     "text": [
      "term has been fetched, and it is [{'term_id': 1, 'term': 'Term 2', 'year': 2025, 'start_date': None, 'end_date': None, 'vacation_date': None, 'resumption_date': None, 'is_current': 1, 'status': 'Upcoming', 'created_at': '2025-03-30 18:38:19', 'updated_at': '2025-03-30 18:38:19'}]\n"
     ]
    }
   ],
   "source": [
    "import sqlite3\n",
    "\n",
    "conn = sqlite3.connect(\"school_system.db\")\n",
    "conn.row_factory = sqlite3.Row\n",
    "cursor = conn.cursor()\n",
    "\n",
    "cursor.execute(\"\"\"SELECT * FROM terms\"\"\")\n",
    "\n",
    "result = cursor.fetchall()\n",
    "terms = [dict(row) for row in result]\n",
    "cursor.close()\n",
    "conn.close()\n",
    "\n",
    "print(\"term has been fetched, and it is\", terms)"
   ]
  },
  {
   "cell_type": "code",
   "execution_count": null,
   "metadata": {},
   "outputs": [],
   "source": []
  }
 ],
 "metadata": {
  "kernelspec": {
   "display_name": "Python 3",
   "language": "python",
   "name": "python3"
  },
  "language_info": {
   "codemirror_mode": {
    "name": "ipython",
    "version": 3
   },
   "file_extension": ".py",
   "mimetype": "text/x-python",
   "name": "python",
   "nbconvert_exporter": "python",
   "pygments_lexer": "ipython3",
   "version": "3.13.2"
  }
 },
 "nbformat": 4,
 "nbformat_minor": 2
}
